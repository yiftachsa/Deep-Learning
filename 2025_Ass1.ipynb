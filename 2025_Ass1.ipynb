{
  "nbformat": 4,
  "nbformat_minor": 0,
  "metadata": {
    "colab": {
      "provenance": [],
      "include_colab_link": true
    },
    "kernelspec": {
      "name": "python3",
      "display_name": "Python 3"
    },
    "language_info": {
      "name": "python"
    }
  },
  "cells": [
    {
      "cell_type": "markdown",
      "metadata": {
        "id": "view-in-github",
        "colab_type": "text"
      },
      "source": [
        "<a href=\"https://colab.research.google.com/github/yiftachsa/Deep-Learning/blob/main/2025_Ass1.ipynb\" target=\"_parent\"><img src=\"https://colab.research.google.com/assets/colab-badge.svg\" alt=\"Open In Colab\"/></a>"
      ]
    },
    {
      "cell_type": "markdown",
      "metadata": {
        "id": "JzYrNKEAmkQE"
      },
      "source": [
        "Deep Learning - Assignment 1"
      ]
    },
    {
      "cell_type": "code",
      "metadata": {
        "id": "-6zyr06YohDE"
      },
      "source": [
        "import numpy as np\n",
        "import matplotlib.pyplot as plt\n",
        "from tensorflow.keras.metrics import CategoricalAccuracy"
      ],
      "execution_count": null,
      "outputs": []
    },
    {
      "cell_type": "markdown",
      "metadata": {
        "id": "C00wKXkbmoLt"
      },
      "source": [
        "Question 1 - Forward propagation"
      ]
    },
    {
      "cell_type": "code",
      "metadata": {
        "id": "_k4n4SsHmfNd"
      },
      "source": [
        "def initialize_parameters(layer_dims):\n",
        "  \"\"\"\n",
        "  layer_dims - python array (list) containing the dimensions of each layer in our network\n",
        "\n",
        "  Returns:\n",
        "  parameters -python dictionary containing your parameters \"W1\", \"b1\", ..., \"WL\", \"bL\":\n",
        "                  Wl - weight matrix of shape (layer_dims[l], layer_dims[l-1])\n",
        "                  bl - bias vector of shape (layer_dims[l], 1)\n",
        "  \"\"\"\n",
        "  parameters = {}\n",
        "  L = len(layer_dims)            # number of layers in the network\n",
        "\n",
        "  for l in range(1, L):\n",
        "      parameters['W' + str(l)] = np.random.randn(layer_dims[l], layer_dims[l-1])*np.sqrt(2/layer_dims[l-1])\n",
        "      parameters['b' + str(l)] = np.zeros((layer_dims[l], 1))\n",
        "\n",
        "      assert(parameters['W' + str(l)].shape == (layer_dims[l], layer_dims[l-1]))\n",
        "      assert(parameters['b' + str(l)].shape == (layer_dims[l], 1))\n",
        "\n",
        "\n",
        "  return parameters\n",
        "\n",
        "def linear_forward(A, W, b):\n",
        "  \"\"\"\n",
        "  Arguments:\n",
        "  A -- activations from previous layer (or input data): (size of previous layer, number of examples)\n",
        "  W -- weights matrix: numpy array of shape (size of current layer, size of previous layer)\n",
        "  b -- bias vector, numpy array of shape (size of the current layer, 1)\n",
        "\n",
        "  Returns:\n",
        "  Z -- the input of the activation function, also called pre-activation parameter\n",
        "  cache -- a python tuple containing \"A\", \"W\" and \"b\" ; stored for computing the backward pass efficiently\n",
        "  \"\"\"\n",
        "\n",
        "  Z = np.dot(W,A)+b\n",
        "\n",
        "  cache = (A, W, b)\n",
        "\n",
        "  return Z, cache\n",
        "\n",
        "def softmax(Z):\n",
        "  # A = np.exp(Z)/(np.sum(np.exp(Z)))\n",
        "  exp = np.exp(Z -np.max(Z))\n",
        "  sum_exp = exp.sum(axis=0, keepdims=True)\n",
        "\n",
        "  A = exp/sum_exp\n",
        "\n",
        "  activation_cache  = (Z)\n",
        "\n",
        "  return A, activation_cache\n",
        "\n",
        "def relu(Z):\n",
        "\n",
        "  A = np.maximum(0,Z)\n",
        "\n",
        "  activation_cache  = (Z)\n",
        "\n",
        "  return A, activation_cache\n",
        "\n",
        "\n",
        "def linear_activation_forward(A_prev, W, b, activation):\n",
        "  \"\"\"\n",
        "  Arguments:\n",
        "  A_prev -- activations from previous layer (or input data): (size of previous layer, number of examples)\n",
        "  W -- weights matrix: numpy array of shape (size of current layer, size of previous layer)\n",
        "  b -- bias vector, numpy array of shape (size of the current layer, 1)\n",
        "  activation -- the activation to be used in this layer, stored as a text string: \"softmax\" or \"relu\"\n",
        "\n",
        "  Returns:\n",
        "  A -- the output of the activation function, also called the post-activation value\n",
        "  cache -- a python tuple containing \"linear_cache\" and \"activation_cache\";\n",
        "            stored for computing the backward pass efficiently\n",
        "  \"\"\"\n",
        "  Z, linear_cache = linear_forward(A_prev, W, b)\n",
        "  if activation == \"softmax\":\n",
        "      A, activation_cache = softmax(Z)\n",
        "  elif activation == \"relu\":\n",
        "      A, activation_cache = relu(Z)\n",
        "\n",
        "  cache = (linear_cache, activation_cache)\n",
        "\n",
        "  return A, cache\n",
        "\n",
        "def L_model_forward(X, parameters, use_batchnorm):\n",
        "  \"\"\"\n",
        "  Arguments:\n",
        "  X -- data, numpy array of shape (input size, number of examples)\n",
        "  parameters -- output of initialize_parameters_deep()\n",
        "\n",
        "  Returns:\n",
        "  AL -- last post-activation value\n",
        "  caches -- list of caches containing:\n",
        "              every cache of linear_activation_forward() (there are L-1 of them, indexed from 0 to L-1)\n",
        "  \"\"\"\n",
        "  caches = []\n",
        "  A = X\n",
        "  L = len(parameters) // 2                  # number of layers in the neural network\n",
        "\n",
        "  # [LINEAR -> RELU]*(L-1).\n",
        "  for l in range(1, L):\n",
        "      A_prev = A\n",
        "\n",
        "      A, cache = linear_activation_forward(A_prev, parameters['W' + str(l)], parameters['b' + str(l)], activation = \"relu\")\n",
        "      if use_batchnorm:\n",
        "        A = apply_batchnorm(A)\n",
        "      caches.append(cache)\n",
        "\n",
        "\n",
        "  # LINEAR -> SOFTMAX\n",
        "  AL, cache = linear_activation_forward(A, parameters['W' + str(L)], parameters['b' + str(L)], activation = \"softmax\")\n",
        "  caches.append(cache)\n",
        "\n",
        "  return AL, caches\n",
        "\n",
        "def compute_cost(AL, Y):\n",
        "  \"\"\"\n",
        "  Arguments:\n",
        "  AL -- probability vector corresponding to your label predictions, shape (1, number of examples)\n",
        "  Y -- true \"label\" vector (for example: containing 0 if non-cat, 1 if cat), shape (1, number of examples)\n",
        "\n",
        "  Returns:\n",
        "  cost -- cross-entropy cost\n",
        "  \"\"\"\n",
        "\n",
        "  m = Y.shape[1]\n",
        "\n",
        "  # Compute loss\n",
        "\n",
        "  logprobs = np.multiply(np.log(AL),Y)\n",
        "  sigma_c = np.sum(logprobs,axis=1)\n",
        "\n",
        "  cost = - (1 / m) * np.sum(sigma_c)\n",
        "  # cost = -np.mean(Y * np.log(AL + 1e-8))\n",
        "\n",
        "  return cost\n",
        "\n",
        "def apply_batchnorm(A):\n",
        "  epsilon = 0.00001\n",
        "  m = A.shape[1]\n",
        "  myu = 1/m * np.sum(A,axis=1)\n",
        "  sigma_sqr = 1/m * np.sum(np.square(A-myu), axis=1)\n",
        "\n",
        "  NA = (A-myu) / np.sqrt(sigma_sqr + epsilon)\n",
        "  return NA\n"
      ],
      "execution_count": null,
      "outputs": []
    },
    {
      "cell_type": "markdown",
      "metadata": {
        "id": "DqOUpVhc8xjX"
      },
      "source": [
        "Question 2 - Backward propagation"
      ]
    },
    {
      "cell_type": "code",
      "metadata": {
        "id": "6Q_Idame89BV"
      },
      "source": [
        "def Linear_backward(dZ, cache):\n",
        "  \"\"\"\n",
        "  Arguments:\n",
        "  dZ -- Gradient of the cost with respect to the linear output (of current layer l)\n",
        "  cache -- tuple of values (A_prev, W, b) coming from the forward propagation in the current layer\n",
        "\n",
        "  Returns:\n",
        "  dA_prev -- Gradient of the cost with respect to the activation (of the previous layer l-1), same shape as A_prev\n",
        "  dW -- Gradient of the cost with respect to W (current layer l), same shape as W\n",
        "  db -- Gradient of the cost with respect to b (current layer l), same shape as b\n",
        "  \"\"\"\n",
        "  A_prev, W, b = cache\n",
        "  m = A_prev.shape[1]\n",
        "\n",
        "  dW = (1/m) *np.dot(dZ, A_prev.T)\n",
        "  db = (1/m) * np.sum(dZ, axis = 1, keepdims = True)\n",
        "  dA_prev = np.dot(W.T, dZ)\n",
        "\n",
        "  return dA_prev, dW, db\n",
        "\n",
        "def linear_activation_backward(dA, cache, activation):\n",
        "  \"\"\"\n",
        "  Arguments:\n",
        "  dA -- post-activation gradient for current layer l\n",
        "  cache -- tuple of values (linear_cache, activation_cache) we store for computing backward propagation efficiently\n",
        "  activation -- the activation to be used in this layer, stored as a text string: \"softmax\" or \"relu\"\n",
        "\n",
        "  Returns:\n",
        "  dA_prev -- Gradient of the cost with respect to the activation (of the previous layer l-1), same shape as A_prev\n",
        "  dW -- Gradient of the cost with respect to W (current layer l), same shape as W\n",
        "  db -- Gradient of the cost with respect to b (current layer l), same shape as b\n",
        "  \"\"\"\n",
        "  linear_cache, activation_cache = cache\n",
        "\n",
        "  if activation == \"relu\":\n",
        "      dZ = relu_backward(dA, activation_cache)\n",
        "      dA_prev, dW, db = Linear_backward(dZ, linear_cache)\n",
        "\n",
        "  elif activation == \"softmax\":\n",
        "      dZ = softmax_backward(dA, activation_cache)\n",
        "      dA_prev, dW, db = Linear_backward(dZ, linear_cache)\n",
        "\n",
        "  return dA_prev, dW, db\n",
        "\n",
        "def relu_backward(dA, activation_cache):\n",
        "  Z = activation_cache\n",
        "  g_tag_Z = np.where(Z > 0, 1, 0)\n",
        "  dZ = dA*g_tag_Z\n",
        "  return dZ\n",
        "#relu_backward([],np.array([[2,0,1],[1,-2,2]]))\n",
        "def softmax_backward(dA, activation_cache):\n",
        "  Z,Y = activation_cache\n",
        "  A,_ = softmax(Z)\n",
        "  dZ = A-Y\n",
        "  return dZ\n",
        "\n",
        "\n",
        "def L_model_backward(AL, Y, caches):\n",
        "  \"\"\"\n",
        "  Arguments:\n",
        "  AL -- probability vector, output of the forward propagation (L_model_forward())\n",
        "  Y -- true \"label\" vector (containing 0 if non-cat, 1 if cat)\n",
        "  caches -- list of caches containing:\n",
        "              every cache of linear_activation_forward() with \"relu\" (it's caches[l], for l in range(L-1) i.e l = 0...L-2)\n",
        "              the cache of linear_activation_forward() with \"softmax\" (it's caches[L-1])\n",
        "\n",
        "  Returns:\n",
        "  grads -- A dictionary with the gradients\n",
        "            grads[\"dA\" + str(l)] = ...\n",
        "            grads[\"dW\" + str(l)] = ...\n",
        "            grads[\"db\" + str(l)] = ...\n",
        "  \"\"\"\n",
        "  grads = {}\n",
        "  L = len(caches) # the number of layers\n",
        "  m = AL.shape[1]\n",
        "\n",
        "  # Initializing the backpropagation\n",
        "  # dAL = - (np.divide(Y, AL) - np.divide(1 - Y, 1 - AL))\n",
        "  dAL =[]\n",
        "\n",
        "  # Lth layer (SOFTMAX -> LINEAR) gradients. Inputs: \"dAL, current_cache\". Outputs: \"grads[\"dAL-1\"], grads[\"dWL\"], grads[\"dbL\"]\n",
        "  current_cache = caches[L-1]\n",
        "  linear_cache, activation_cache = current_cache\n",
        "  activation_cache = (activation_cache, Y)\n",
        "  current_cache = (linear_cache, activation_cache)\n",
        "  grads[\"dA\" + str(L-1)], grads[\"dW\" + str(L)], grads[\"db\" + str(L)] = linear_activation_backward(dAL, current_cache, activation=\"softmax\")\n",
        "\n",
        "\n",
        "  # Loop from l=L-2 to l=0\n",
        "  for l in reversed(range(L-1)):\n",
        "      # lth layer: (RELU -> LINEAR) gradients.\n",
        "      # Inputs: \"grads[\"dA\" + str(l + 1)], current_cache\". Outputs: \"grads[\"dA\" + str(l)] , grads[\"dW\" + str(l + 1)] , grads[\"db\" + str(l + 1)]\n",
        "\n",
        "      current_cache = caches[l]\n",
        "\n",
        "      dA_prev_temp, dW_temp, db_temp = linear_activation_backward(grads[\"dA\" + str(l+1)], current_cache, activation=\"relu\")\n",
        "      grads[\"dA\" + str(l)] = dA_prev_temp\n",
        "      grads[\"dW\" + str(l + 1)] = dW_temp\n",
        "      grads[\"db\" + str(l + 1)] = db_temp\n",
        "\n",
        "  return grads\n",
        "\n",
        "\n",
        "def update_parameters(parameters, grads, learning_rate):\n",
        "  \"\"\"\n",
        "  Arguments:\n",
        "  parameters -- python dictionary containing your parameters\n",
        "  grads -- python dictionary containing your gradients, output of L_model_backward\n",
        "\n",
        "  Returns:\n",
        "  parameters -- python dictionary containing your updated parameters\n",
        "                parameters[\"W\" + str(l)] = ...\n",
        "                parameters[\"b\" + str(l)] = ...\n",
        "  \"\"\"\n",
        "\n",
        "  L = len(parameters) // 2 # number of layers in the neural network\n",
        "\n",
        "  # Update rule for each parameter. Use a for loop.\n",
        "  for l in range(L):\n",
        "      parameters[\"W\" + str(l+1)] =  parameters[\"W\" + str(l+1)] - learning_rate * grads[\"dW\" + str(l+1)]\n",
        "      parameters[\"b\" + str(l+1)] = parameters[\"b\" + str(l+1)] - learning_rate * grads[\"db\" + str(l+1)]\n",
        "  return parameters"
      ],
      "execution_count": null,
      "outputs": []
    },
    {
      "cell_type": "markdown",
      "metadata": {
        "id": "50ZqFK7ovbBT"
      },
      "source": [
        "Question 3 - L-layer model\n"
      ]
    },
    {
      "cell_type": "code",
      "metadata": {
        "id": "zgeOJO5ODcbR"
      },
      "source": [
        "def L_layer_model(X, Y, layers_dims, learning_rate, num_iterations, batch_size, X_val, Y_val,use_batchnorm=False):\n",
        "  \"\"\"\n",
        "  Arguments:\n",
        "  X -- data, numpy array of shape (num_px * num_px * 3, number of examples)\n",
        "  Y -- true \"label\" vector (containing 0 if cat, 1 if non-cat), of shape (1, number of examples)\n",
        "  layers_dims -- list containing the input size and each layer size, of length (number of layers + 1).\n",
        "  learning_rate -- learning rate of the gradient descent update rule\n",
        "  num_iterations -- number of iterations of the optimization loop\n",
        "  print_cost -- if True, it prints the cost every 100 steps\n",
        "\n",
        "  Returns:\n",
        "  parameters -- parameters learnt by the model. They can then be used to predict.\n",
        "  \"\"\"\n",
        "\n",
        "  np.random.seed(1)\n",
        "  costs = []\n",
        "\n",
        "  m = X.shape[1]\n",
        "\n",
        "  # Parameters initialization. (≈ 1 line of code)\n",
        "  parameters = initialize_parameters(layers_dims)\n",
        "\n",
        "\n",
        "  # gradient descent\n",
        "  for i in range(0, num_iterations):\n",
        "      for batch_start_idx in range(0,m,batch_size):\n",
        "        batch_end_idx = batch_start_idx+batch_size\n",
        "\n",
        "        batch_X = X[:,batch_start_idx:batch_end_idx]\n",
        "        batch_Y = Y[:,batch_start_idx:batch_end_idx]\n",
        "        # Forward propagation: [LINEAR -> RELU]*(L-1) -> LINEAR -> SOFTMAX\n",
        "        AL, caches = L_model_forward(batch_X, parameters, use_batchnorm)\n",
        "\n",
        "        # Compute cost.\n",
        "        cost = compute_cost(AL, batch_Y)\n",
        "\n",
        "        # Backward propagation.\n",
        "        grads = L_model_backward(AL, batch_Y, caches)\n",
        "\n",
        "        # Update parameters.\n",
        "        parameters = update_parameters(parameters, grads, learning_rate)\n",
        "\n",
        "\n",
        "      ### CAN BE DONE AT AN END OF AN EPOCH\n",
        "      # Print the cost every 100 training example\n",
        "      # batch_idx = batch_start_idx/batch_size\n",
        "      # TODO: change to 100!!\n",
        "      if i % 1 == 0:\n",
        "          print (\"Cost after iteration %i: %f\" %(i, cost))\n",
        "\n",
        "      if i % 1 == 0:\n",
        "          costs.append(cost)\n",
        "      # predict on validation set. stop if the change is insignificant (delta < 0.0001)\n",
        "      # val_accuracy = Predict(X_val, Y_val, parameters)\n",
        "      # if val_accuracy < 0.0001:\n",
        "      #   break\n",
        "\n",
        "  # plot the cost\n",
        "  plt.plot(np.squeeze(costs))\n",
        "  plt.ylabel('cost')\n",
        "  plt.xlabel('iterations (per hundreds)')\n",
        "  plt.title(\"Learning rate =\" + str(learning_rate))\n",
        "  plt.show()\n",
        "\n",
        "  return parameters"
      ],
      "execution_count": null,
      "outputs": []
    },
    {
      "cell_type": "markdown",
      "metadata": {
        "id": "eMTrcOr7xwII"
      },
      "source": [
        "Question 3 - predict\n"
      ]
    },
    {
      "cell_type": "code",
      "metadata": {
        "id": "NfmeqC0QVrOK"
      },
      "source": [],
      "execution_count": null,
      "outputs": []
    },
    {
      "cell_type": "code",
      "metadata": {
        "id": "3bTvyM2fxyyI"
      },
      "source": [
        "def categorical_accuracy(Y,Y_hat):\n",
        "  print(\"Y.shape\", Y.shape)\n",
        "  print(\"Y_hat.shape\", Y_hat.shape)\n",
        "  m = CategoricalAccuracy()\n",
        "  m.update_state(Y, Y_hat)\n",
        "  return m.result().numpy()\n",
        "\n",
        "def Predict(X,Y, parameters):\n",
        "  \"\"\"\n",
        "\n",
        "  \"\"\"\n",
        "  Y_hat, _ = L_model_forward(X, parameters, False)\n",
        "  return categorical_accuracy(Y, Y_hat)\n"
      ],
      "execution_count": null,
      "outputs": []
    },
    {
      "cell_type": "markdown",
      "metadata": {
        "id": "wFOSlEDw17x7"
      },
      "source": [
        "Question 4 - MNIST\n",
        "\n",
        "a."
      ]
    },
    {
      "cell_type": "code",
      "metadata": {
        "colab": {
          "base_uri": "https://localhost:8080/"
        },
        "id": "DvB3m5HB1-Mg",
        "outputId": "9e0fcc93-8377-4f92-fb1a-bf8d92db4503"
      },
      "source": [
        "from keras.datasets import mnist\n",
        "from sklearn.model_selection import train_test_split\n",
        "from sklearn.preprocessing import LabelBinarizer\n",
        "\n",
        "(X_train, Y_train), (X_test, Y_test) = mnist.load_data()\n",
        "X_train = X_train.reshape(X_train.shape[0], 784)\n",
        "X_test = X_test.reshape(X_test.shape[0], 784)\n",
        "\n",
        "# import matplotlib.pyplot as plt\n",
        "# fig=plt.figure(figsize=(20.,8.))\n",
        "# for i in range(10):\n",
        "#   for sample_idx in range(len(Y_train)):\n",
        "#     if Y_train[sample_idx] == i:\n",
        "#       fig.add_subplot(2,5,i+1)\n",
        "#       plt.title(\"class: {}\".format(i))\n",
        "#       plt.imshow(X_train[sample_idx].reshape(28,28), cmap='gray')\n",
        "#       break\n",
        "# plt.show()\n",
        "\n",
        "# One hot encoding the Y labels\n",
        "lb = LabelBinarizer()\n",
        "lb.fit(range(0,10))\n",
        "Y_train = lb.transform(Y_train)\n",
        "Y_test = lb.transform(Y_test)\n",
        "\n",
        "X_train, X_val, Y_train, Y_val = train_test_split(X_train, Y_train, test_size=0.2, random_state=1)\n",
        "\n",
        "# print(f\"X_train, Y_train: {X_train.shape, Y_train.shape}\")\n",
        "# print(f\"X_val, Y_val: {X_val.shape, Y_val.shape}\")\n",
        "# print(f\"X_test, Y_test: {X_test.shape, Y_test.shape}\")\n",
        "\n",
        "# Reshape the training and test examples\n",
        "X_train = X_train.T\n",
        "X_val = X_val.T\n",
        "X_test = X_test.T\n",
        "Y_train = Y_train.T\n",
        "Y_val = Y_val.T\n",
        "Y_test = Y_test.T\n",
        "\n",
        "print(f\"X_train, Y_train: {X_train.shape, Y_train.shape}\")\n",
        "print(f\"X_val, Y_val: {X_val.shape, Y_val.shape}\")\n",
        "print(f\"X_test, Y_test: {X_test.shape, Y_test.shape}\")\n",
        "\n",
        "# Standardize data to have feature values between 0 and 1.\n",
        "X_train = X_train/255.\n",
        "X_val = X_val/255.\n",
        "X_test = X_test/255.\n"
      ],
      "execution_count": null,
      "outputs": [
        {
          "output_type": "stream",
          "text": [
            "Downloading data from https://storage.googleapis.com/tensorflow/tf-keras-datasets/mnist.npz\n",
            "11493376/11490434 [==============================] - 0s 0us/step\n",
            "X_train, Y_train: ((784, 48000), (10, 48000))\n",
            "X_val, Y_val: ((784, 12000), (10, 12000))\n",
            "X_test, Y_test: ((784, 10000), (10, 10000))\n"
          ],
          "name": "stdout"
        }
      ]
    },
    {
      "cell_type": "markdown",
      "metadata": {
        "id": "UMDbGcX93-sO"
      },
      "source": [
        "b.\n"
      ]
    },
    {
      "cell_type": "code",
      "metadata": {
        "colab": {
          "base_uri": "https://localhost:8080/",
          "height": 516
        },
        "id": "8ZFduHLn4VWm",
        "outputId": "694066d4-eb40-41a8-9b33-38f9f639800b"
      },
      "source": [
        "layers_dims = (784, 20, 7, 5, 10)\n",
        "learning_rate = 0.009\n",
        "num_iterations = 10\n",
        "batch_size = 10\n",
        "params = L_layer_model(X_train, Y_train, layers_dims, learning_rate, num_iterations, batch_size, X_val, Y_val, False)\n",
        "accuracy = Predict(X_test, Y_test, params)\n",
        "print(accuracy)"
      ],
      "execution_count": null,
      "outputs": [
        {
          "output_type": "stream",
          "text": [
            "Cost after iteration 0: 0.447996\n",
            "Cost after iteration 1: 0.571337\n",
            "Cost after iteration 2: 0.575892\n",
            "Cost after iteration 3: 0.542754\n",
            "Cost after iteration 4: 0.735958\n",
            "Cost after iteration 5: 0.874618\n",
            "Cost after iteration 6: 0.875102\n",
            "Cost after iteration 7: 0.852971\n",
            "Cost after iteration 8: 0.773602\n",
            "Cost after iteration 9: 0.738035\n"
          ],
          "name": "stdout"
        },
        {
          "output_type": "display_data",
          "data": {
            "image/png": "[encoded data removed]",
            "text/plain": [
              "<Figure size 432x288 with 1 Axes>"
            ]
          },
          "metadata": {
            "tags": [],
            "needs_background": "light"
          }
        },
        {
          "output_type": "stream",
          "text": [
            "Y.shape (10, 10000)\n",
            "Y_hat.shape (10, 10000)\n",
            "0.0\n"
          ],
          "name": "stdout"
        }
      ]
    }
  ]
}